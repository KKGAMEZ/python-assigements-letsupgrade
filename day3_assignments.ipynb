{
 "cells": [
  {
   "cell_type": "code",
   "execution_count": 2,
   "metadata": {},
   "outputs": [
    {
     "name": "stdout",
     "output_type": "stream",
     "text": [
      "enter the value of n to find the sum : 4\n",
      "sum of first 4 natural numbers is: 10\n"
     ]
    }
   ],
   "source": [
    "#Assignment1 --> sum of n numbers with help while loop\n",
    "\n",
    "num = int(input(\"enter the value of n to find the sum : \"))\n",
    "given = num\n",
    "sum = 0\n",
    "if num <= 0:\n",
    "    print(\"Enter a Positive Number \")\n",
    "else:\n",
    "    while num > 0:\n",
    "        sum += num\n",
    "        num -= 1;\n",
    "    print(\"sum of first\", given,\"natural numbers is:\",sum)\n",
    "\n",
    "\n"
   ]
  },
  {
   "cell_type": "code",
   "execution_count": 6,
   "metadata": {},
   "outputs": [
    {
     "name": "stdout",
     "output_type": "stream",
     "text": [
      "Enter a number : 50\n",
      "50 is not a prime number\n",
      "50 is not a prime number\n",
      "50 is not a prime number\n",
      "50 is a prime number\n"
     ]
    }
   ],
   "source": [
    "#Assignment2 --> take a integer and find -> prime or not\n",
    "num1 = int(input(\"Enter a number : \"))\n",
    "if num1 <= 1:\n",
    "    print(num1, \"is not a prime number\")\n",
    "else:\n",
    "    for i in range(2,num1):\n",
    "        if(num1%i) == 0:\n",
    "            print(num1, \"is not a prime number\")\n",
    "    else:\n",
    "        print(num1, \"is a prime number\")"
   ]
  },
  {
   "cell_type": "code",
   "execution_count": null,
   "metadata": {},
   "outputs": [],
   "source": []
  }
 ],
 "metadata": {
  "kernelspec": {
   "display_name": "Python 3",
   "language": "python",
   "name": "python3"
  },
  "language_info": {
   "codemirror_mode": {
    "name": "ipython",
    "version": 3
   },
   "file_extension": ".py",
   "mimetype": "text/x-python",
   "name": "python",
   "nbconvert_exporter": "python",
   "pygments_lexer": "ipython3",
   "version": "3.7.6"
  }
 },
 "nbformat": 4,
 "nbformat_minor": 4
}
