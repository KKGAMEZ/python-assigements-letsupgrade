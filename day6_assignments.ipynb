{
 "cells": [
  {
   "cell_type": "code",
   "execution_count": 21,
   "metadata": {},
   "outputs": [],
   "source": [
    "#Assignment\n",
    "\n",
    "#list1 = [1,2,3,4,5,6,7,8]\n",
    "#list2 = [ \"a\", \"b\", \"c\", \"d\", \"e\"]\n",
    "#convert to a dictionay\n",
    "#in a one line using list comprehansion (without using zip method)\n",
    "# i wrote a code here to make it easy for me\n",
    "# list1 = [1,2,3,4,5,6,7,8]\n",
    "# list2 = [ \"a\", \"b\", \"c\", \"d\", \"e\"]\n",
    "# len1 = min(len(list1),len(list2))\n",
    "# dict1 ={}\n",
    "# for each in range(len1):\n",
    " #    dict1[list1[each]] = list2[each]\n",
    "    \n",
    "# print(dict1)\n",
    "\n",
    "    "
   ]
  },
  {
   "cell_type": "code",
   "execution_count": 41,
   "metadata": {},
   "outputs": [
    {
     "name": "stdout",
     "output_type": "stream",
     "text": [
      "{1: 'a', 2: 'b', 3: 'c', 4: 'd', 5: 'e'}\n"
     ]
    }
   ],
   "source": [
    "list1 = [1,2,3,4,5,6,7,8]\n",
    "list2 = [ \"a\", \"b\", \"c\", \"d\", \"e\"]\n",
    "dict1={ list1[ each ]: list2[each] for each in range(len(list2))} and print(dict1)\n"
   ]
  },
  {
   "cell_type": "code",
   "execution_count": null,
   "metadata": {},
   "outputs": [],
   "source": []
  }
 ],
 "metadata": {
  "kernelspec": {
   "display_name": "Python 3",
   "language": "python",
   "name": "python3"
  },
  "language_info": {
   "codemirror_mode": {
    "name": "ipython",
    "version": 3
   },
   "file_extension": ".py",
   "mimetype": "text/x-python",
   "name": "python",
   "nbconvert_exporter": "python",
   "pygments_lexer": "ipython3",
   "version": "3.7.6"
  }
 },
 "nbformat": 4,
 "nbformat_minor": 4
}
