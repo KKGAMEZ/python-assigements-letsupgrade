{
 "cells": [
  {
   "cell_type": "code",
   "execution_count": null,
   "metadata": {},
   "outputs": [],
   "source": [
    "  \n",
    "        "
   ]
  },
  {
   "cell_type": "code",
   "execution_count": 80,
   "metadata": {},
   "outputs": [],
   "source": [
    "# Assignment1 = [0,1,2,10,4,1,0,56,2,0,1,3,0,56,0,4] sort increasing order but all zeros should be at right hand side\n",
    "list = [0,1,2,10,4,1,0,56,2,0,1,3,0,56,0,4]\n",
    "list.sort()\n",
    "\n",
    "\n",
    "def fun1(list, n): \n",
    "    # Count of non-zero elements \n",
    "    count = 0 \n",
    "\n",
    "    for i in range(n): \n",
    "        if list[i] != 0:\n",
    "            list[count] = list[i] \n",
    "            count+=1\n",
    "\n",
    "            \n",
    "    while count < n: \n",
    "        list[count] = 0\n",
    "        count += 1\n",
    "        \n"
   ]
  },
  {
   "cell_type": "code",
   "execution_count": 62,
   "metadata": {},
   "outputs": [
    {
     "name": "stdout",
     "output_type": "stream",
     "text": [
      "[1, 1, 1, 2, 2, 3, 4, 4, 10, 56, 56, 0, 0, 0, 0, 0]\n"
     ]
    }
   ],
   "source": [
    "#Assignmet 1 \n",
    "n=len(list)\n",
    "fun1(list, n)\n",
    "print(list)\n"
   ]
  },
  {
   "cell_type": "code",
   "execution_count": 79,
   "metadata": {},
   "outputs": [
    {
     "name": "stdout",
     "output_type": "stream",
     "text": [
      "[5, 15, 25, 35, 45, 60, 10, 20, 40, 60, 70, 80]\n"
     ]
    }
   ],
   "source": [
    "#Assignment2\n",
    "#list1 = [10,20,40,60,70,80] sorted list\n",
    "#list2 = [5,15,25,35,45,60]  sorted list\n",
    "#merge these two sorted list produce one sorted list,but use only one loop either while or for only one time\n",
    "\n",
    "list1 = [10,20,40,60,70,80] \n",
    "list2 = [5,15,25,35,45,60]  \n",
    "s1=len(list1)\n",
    "s2=len(list2)\n",
    "list_ans=[]\n",
    "i=0 \n",
    "j=0 \n",
    "while i < s1 and j < s2:\n",
    "    if list1[i] < list2[i]:\n",
    "        list_ans.append(list1[i])\n",
    "        i += 1\n",
    "        \n",
    "    else:\n",
    "        list_ans.append(list2[j])\n",
    "        j += 1\n",
    "\n",
    "list_ans = list_ans + list1[i:] + list2[j:]\n",
    "\n",
    "print(str(list_ans))\n",
    "\n",
    "\n"
   ]
  },
  {
   "cell_type": "code",
   "execution_count": null,
   "metadata": {},
   "outputs": [],
   "source": [
    "  "
   ]
  },
  {
   "cell_type": "code",
   "execution_count": null,
   "metadata": {},
   "outputs": [],
   "source": []
  }
 ],
 "metadata": {
  "kernelspec": {
   "display_name": "Python 3",
   "language": "python",
   "name": "python3"
  },
  "language_info": {
   "codemirror_mode": {
    "name": "ipython",
    "version": 3
   },
   "file_extension": ".py",
   "mimetype": "text/x-python",
   "name": "python",
   "nbconvert_exporter": "python",
   "pygments_lexer": "ipython3",
   "version": "3.7.6"
  }
 },
 "nbformat": 4,
 "nbformat_minor": 4
}
