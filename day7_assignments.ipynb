{
 "cells": [
  {
   "cell_type": "markdown",
   "metadata": {},
   "source": [
    "Assignemnt : 1     Use the dictionary, port1 = {21: \"FTP\", 22:\"SSH\", 23: \"telnet\", 80: \"http\"}, and make a new dictionary in which keys become values and values become keys, as shown: Port2 = {“FTP\":21, \"SSH\":22, “telnet\":23,\n",
    "\"http\": 80}\n",
    "\n",
    "Assignment 2 : \n",
    "2.\tTake a list of tuple as shown below.\n",
    "[(1,2), (3,4), (5,6),(4,5)]\n",
    "Make a new list which contains sum of number of tuples. \n",
    "For example \n",
    "Input \n",
    "[(1,2), (3,4), (5,6)]\n",
    "Out put \n",
    "[3, 7, 11]\n",
    "\n",
    "Assignment 3 :\n",
    "\n",
    "Take a list as shown below \n",
    "[(1,2,3), [1,2], ['a','hit','less']]\n",
    "The List contains tuple and lists. Make the elements of inner lists and tuples to outer list"
   ]
  },
  {
   "cell_type": "code",
   "execution_count": 1,
   "metadata": {},
   "outputs": [
    {
     "name": "stdout",
     "output_type": "stream",
     "text": [
      "{'FTP': [21], 'SSH': [22], 'telnet': [23], 'http': [80]}\n"
     ]
    }
   ],
   "source": [
    "#assignment1\n",
    "port1 = {21: \"FTP\", 22:\"SSH\", 23: \"telnet\", 80: \"http\"}\n",
    "port2 = {}\n",
    "for (key, value) in port1.items():\n",
    "    if value in port2:\n",
    "        port2[value].append(key)\n",
    "    else:\n",
    "        port2[value]=[key]\n",
    "        \n",
    "print(port2)\n",
    "    \n",
    "    "
   ]
  },
  {
   "cell_type": "code",
   "execution_count": 21,
   "metadata": {},
   "outputs": [
    {
     "name": "stdout",
     "output_type": "stream",
     "text": [
      "[3, 7, 11, 9]\n"
     ]
    }
   ],
   "source": [
    "#assignment2\n",
    "\n",
    "tup1=[(1,2), (3,4), (5,6),(4,5)]\n",
    "tup2 = [i + j for i, j in tup1]\n",
    "  \n",
    "\n",
    "print(tup2)   "
   ]
  },
  {
   "cell_type": "code",
   "execution_count": 19,
   "metadata": {},
   "outputs": [
    {
     "name": "stdout",
     "output_type": "stream",
     "text": [
      "[3, 7, 11, 9]\n"
     ]
    }
   ],
   "source": [
    "#assignment2\n",
    "tup1=[(1,2), (3,4), (5,6),(4,5)]\n",
    "tup2=[]\n",
    "for (a,b) in tup1:\n",
    "    tup2.append(a+b)\n",
    "    \n",
    "print(tup2)\n",
    "\n"
   ]
  },
  {
   "cell_type": "code",
   "execution_count": 51,
   "metadata": {},
   "outputs": [
    {
     "name": "stdout",
     "output_type": "stream",
     "text": [
      "[1, 2, 3, 1, 2, 'a', 'hit', 'less']\n"
     ]
    }
   ],
   "source": [
    "#assignment3\n",
    "l = [(1,2,3), [1,2], ['a','hit','less']] \n",
    "l2 = []\n",
    "for each in l:\n",
    "    for item in each:\n",
    "        l2.append(item)\n",
    "        \n",
    "print(l2)"
   ]
  },
  {
   "cell_type": "code",
   "execution_count": null,
   "metadata": {},
   "outputs": [],
   "source": []
  }
 ],
 "metadata": {
  "kernelspec": {
   "display_name": "Python 3",
   "language": "python",
   "name": "python3"
  },
  "language_info": {
   "codemirror_mode": {
    "name": "ipython",
    "version": 3
   },
   "file_extension": ".py",
   "mimetype": "text/x-python",
   "name": "python",
   "nbconvert_exporter": "python",
   "pygments_lexer": "ipython3",
   "version": "3.7.6"
  }
 },
 "nbformat": 4,
 "nbformat_minor": 4
}
