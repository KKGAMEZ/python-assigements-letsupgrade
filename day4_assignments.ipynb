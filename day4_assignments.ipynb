{
 "cells": [
  {
   "cell_type": "code",
   "execution_count": 1,
   "metadata": {},
   "outputs": [
    {
     "name": "stdout",
     "output_type": "stream",
     "text": [
      "index value of first and last 'we' are  5 , 24 respectively\n"
     ]
    }
   ],
   "source": [
    "#Assignment1 \"find all occurence of substring in the given string \"\n",
    "#\"what we think we become;we are python programmer\" find index values \"we\"\n",
    "str1=\"what we think we become;we are python programmer\"\n",
    "first_we=str1.find(\"we\")\n",
    "last_we=str1.rfind(\"we\")\n",
    "print(\"index value of first and last 'we' are \", first_we,\",\" , last_we, \"respectively\")"
   ]
  },
  {
   "cell_type": "code",
   "execution_count": 2,
   "metadata": {},
   "outputs": [
    {
     "name": "stdout",
     "output_type": "stream",
     "text": [
      "index value of first,middle and last 'we' are  5 , 14 , 24 respectively\n"
     ]
    }
   ],
   "source": [
    "middle_we=str1.split(\";\")[0].rfind(\"we\")\n",
    "print(\"index value of first,middle and last 'we' are \", first_we,\",\" ,middle_we, \",\" ,last_we, \"respectively\")"
   ]
  },
  {
   "cell_type": "code",
   "execution_count": 9,
   "metadata": {},
   "outputs": [
    {
     "name": "stdout",
     "output_type": "stream",
     "text": [
      "write any word to detrmine is it upper or lower:krunal\n",
      "all the above characters are written in lowercase\n"
     ]
    }
   ],
   "source": [
    "#Assignment2 -- islower() ---> with different kind of strings\n",
    "#Isupper()\n",
    "\n",
    "str2 = input(\"write any word to detrmine is it upper or lower:\")\n",
    "if str2.isupper() == True:\n",
    "    print(\"all the above characters are written in UPPERCASE\")\n",
    "elif str2.islower() == True:\n",
    "    print(\"all the above characters are written in lowercase\")\n",
    "else:\n",
    "    print(\"please type charcters only in lower or upper to cheack\")\n",
    "    \n",
    "#for example i given the answer below for lowercase"
   ]
  },
  {
   "cell_type": "code",
   "execution_count": null,
   "metadata": {},
   "outputs": [],
   "source": []
  }
 ],
 "metadata": {
  "kernelspec": {
   "display_name": "Python 3",
   "language": "python",
   "name": "python3"
  },
  "language_info": {
   "codemirror_mode": {
    "name": "ipython",
    "version": 3
   },
   "file_extension": ".py",
   "mimetype": "text/x-python",
   "name": "python",
   "nbconvert_exporter": "python",
   "pygments_lexer": "ipython3",
   "version": "3.7.6"
  }
 },
 "nbformat": 4,
 "nbformat_minor": 4
}
